{
 "cells": [
  {
   "cell_type": "code",
   "execution_count": 2,
   "metadata": {
    "collapsed": true
   },
   "outputs": [],
   "source": [
    "import json\n",
    "from statistics import mean\n",
    "from typing import Dict, List, Tuple"
   ]
  },
  {
   "cell_type": "code",
   "execution_count": 3,
   "outputs": [],
   "source": [
    "results_type = Dict[str, Dict[str, float]]\n",
    "\n",
    "def load_results(path: str) -> results_type:\n",
    "    with open(path) as fin:\n",
    "        d = json.load(fin)\n",
    "        del d['raw_results']\n",
    "        del d['cmd_args']\n",
    "        return d\n",
    "\n",
    "def compare_results(results_a: results_type, results_b: results_type) -> Dict[str, Dict[str, float]]:\n",
    "    \"\"\"Given two results dicts, return the differences in accuracy by functionality\"\"\"\n",
    "    diffs = {} # categories to acc-diff\n",
    "    for category in results_a:\n",
    "        cat_a_acc = results_a[category]['acc']\n",
    "        cat_b_acc = results_b[category]['acc']\n",
    "        diffs[category] = cat_b_acc - cat_a_acc\n",
    "    return diffs\n",
    "\n",
    "def display_n_most_extreme(list_of_tuples, n, best_or_worst, in_percent=False):\n",
    "    list_of_tuples.sort(key=lambda x:x[1], reverse=True)\n",
    "    if best_or_worst == 'best':\n",
    "        to_display = list_of_tuples[:n]\n",
    "    elif best_or_worst == 'worst':\n",
    "        to_display = list_of_tuples[-n:]\n",
    "        to_display = to_display[::-1]\n",
    "    if in_percent:\n",
    "        for item in to_display:\n",
    "            percent = item[1] * 100\n",
    "            print(f'{item[0]}: {percent:+.1f}%')\n",
    "    else:\n",
    "        for item in to_display:\n",
    "            print(f'{item[0]}: {item[1]:+.2f}')"
   ],
   "metadata": {
    "collapsed": false,
    "pycharm": {
     "name": "#%%\n"
    }
   }
  },
  {
   "cell_type": "code",
   "execution_count": 4,
   "outputs": [],
   "source": [
    "def compare_result_files(path_a: str, path_b: str):\n",
    "    results_a = load_results(path_a)\n",
    "    results_b = load_results(path_b)\n",
    "    diffs = compare_results(results_a, results_b)\n",
    "    diffs_list = list(diffs.items())\n",
    "    diffs_list.sort(key=lambda x:x[1])\n",
    "    diffs_list_pos = [item for item in diffs_list if item[1] > 0]\n",
    "    diffs_list_neg = [item for item in diffs_list if item[1] < 0]\n",
    "    print(f'Accuracy A: {results_a[\"overall\"][\"acc\"]*100:.1f}, Accuracy B: {results_b[\"overall\"][\"acc\"]*100:.1f}')\n",
    "    print(f'Diff: {(results_b[\"overall\"][\"acc\"] - results_a[\"overall\"][\"acc\"])*100:+.1f}%')\n",
    "    print(f'~~~ Some stats: ~~~')\n",
    "    print(f'Num categories: {len(diffs)}')\n",
    "    print(f'Num categories pos: {len(diffs_list_pos)}')\n",
    "    print(f'Mean effect pos: {mean([i[1] for i in diffs_list_pos]):.3f}')\n",
    "    print(f'Max effect pos: {max([i[1] for i in diffs_list_pos]):.3f}')\n",
    "    print(f'Num categories neg: {len(diffs_list_neg)}')\n",
    "    print(f'Mean effect neg: {mean([i[1] for i in diffs_list_neg]):.3f}')\n",
    "    print(f'Max effect neg: {min([i[1] for i in diffs_list_neg]):.3f}')\n",
    "    print(f'+++ The following functionalities increased the most: +++')\n",
    "    display_n_most_extreme(diffs_list, 10, 'best', in_percent=True)\n",
    "    print(f'--- The following functionalities decreased the most: ---')\n",
    "    display_n_most_extreme(diffs_list, 10, 'worst', in_percent=True)"
   ],
   "metadata": {
    "collapsed": false,
    "pycharm": {
     "name": "#%%\n"
    }
   }
  },
  {
   "cell_type": "markdown",
   "source": [
    "# only_HSCatcher_that_contains_HS vs. FBT_tg_that_contains_HS"
   ],
   "metadata": {
    "collapsed": false
   }
  },
  {
   "cell_type": "code",
   "execution_count": 5,
   "outputs": [
    {
     "name": "stdout",
     "output_type": "stream",
     "text": [
      "Accuracy A: 79.4, Accuracy B: 82.7\n",
      "Diff: +3.3%\n",
      "~~~ Some stats: ~~~\n",
      "Num categories: 30\n",
      "Num categories pos: 9\n",
      "Mean effect pos: 0.303\n",
      "Max effect pos: 0.839\n",
      "Num categories neg: 8\n",
      "Mean effect neg: -0.066\n",
      "Max effect neg: -0.146\n",
      "+++ The following functionalities increased the most: +++\n",
      "target_group_nh: +83.9%\n",
      "target_indiv_nh: +70.8%\n",
      "profanity_nh: +49.0%\n",
      "target_obj_nh: +36.9%\n",
      "counter_quote_nh: +8.7%\n",
      "counter_ref_nh: +7.8%\n",
      "slur_homonym_nh: +6.7%\n",
      "negate_neg_nh: +5.3%\n",
      "overall: +3.3%\n",
      "derog_neg_emote_h: +0.0%\n",
      "--- The following functionalities decreased the most: ---\n",
      "slur_h: -14.6%\n",
      "spell_leet_h: -12.7%\n",
      "spell_space_add_h: -11.0%\n",
      "derog_impl_h: -5.0%\n",
      "spell_space_del_h: -4.3%\n",
      "negate_pos_h: -2.9%\n",
      "spell_char_del_h: -1.4%\n",
      "profanity_h: -0.7%\n",
      "spell_char_swap_h: +0.0%\n",
      "ident_pos_nh: +0.0%\n"
     ]
    }
   ],
   "source": [
    "path_only_HSCatcher = '../results/hatecheck_that_contains_HS/only_HSCatcher_that_contains_HS.json'\n",
    "path_FBT_tg = '../results/hatecheck_that_contains_HS/FBT_tg_that_contains_HS.json'\n",
    "comparison = compare_result_files(path_only_HSCatcher, path_FBT_tg)"
   ],
   "metadata": {
    "collapsed": false,
    "pycharm": {
     "name": "#%%\n"
    }
   }
  },
  {
   "cell_type": "markdown",
   "source": [
    "# only_HSCatcher_that_contains_HS vs. FRS_that_contains_HS"
   ],
   "metadata": {
    "collapsed": false
   }
  },
  {
   "cell_type": "code",
   "execution_count": 6,
   "outputs": [
    {
     "name": "stdout",
     "output_type": "stream",
     "text": [
      "Accuracy A: 79.4, Accuracy B: 82.7\n",
      "Diff: +3.3%\n",
      "~~~ Some stats: ~~~\n",
      "Num categories: 30\n",
      "Num categories pos: 9\n",
      "Mean effect pos: 0.303\n",
      "Max effect pos: 0.839\n",
      "Num categories neg: 8\n",
      "Mean effect neg: -0.066\n",
      "Max effect neg: -0.146\n",
      "+++ The following functionalities increased the most: +++\n",
      "target_group_nh: +83.9%\n",
      "target_indiv_nh: +70.8%\n",
      "profanity_nh: +49.0%\n",
      "target_obj_nh: +36.9%\n",
      "counter_quote_nh: +8.7%\n",
      "counter_ref_nh: +7.8%\n",
      "slur_homonym_nh: +6.7%\n",
      "negate_neg_nh: +5.3%\n",
      "overall: +3.3%\n",
      "derog_neg_emote_h: +0.0%\n",
      "--- The following functionalities decreased the most: ---\n",
      "slur_h: -14.6%\n",
      "spell_leet_h: -12.7%\n",
      "spell_space_add_h: -11.0%\n",
      "derog_impl_h: -5.0%\n",
      "spell_space_del_h: -4.3%\n",
      "negate_pos_h: -2.9%\n",
      "spell_char_del_h: -1.4%\n",
      "profanity_h: -0.7%\n",
      "spell_char_swap_h: +0.0%\n",
      "ident_pos_nh: +0.0%\n"
     ]
    }
   ],
   "source": [
    "path_only_HSCatcher = '../results/hatecheck_that_contains_HS/only_HSCatcher_that_contains_HS.json'\n",
    "path_FRS = '../results/hatecheck_that_contains_HS/FRS_that_contains_HS.json'\n",
    "compare_result_files(path_only_HSCatcher, path_FBT_tg)"
   ],
   "metadata": {
    "collapsed": false,
    "pycharm": {
     "name": "#%%\n"
    }
   }
  },
  {
   "cell_type": "markdown",
   "source": [
    "# only_HSCatcher_that_contains_HS vs. CDC_FBT_tg_that_contains_HS"
   ],
   "metadata": {
    "collapsed": false
   }
  },
  {
   "cell_type": "code",
   "execution_count": 7,
   "outputs": [
    {
     "name": "stdout",
     "output_type": "stream",
     "text": [
      "Accuracy A: 79.4, Accuracy B: 79.6\n",
      "Diff: +0.2%\n",
      "~~~ Some stats: ~~~\n",
      "Num categories: 30\n",
      "Num categories pos: 5\n",
      "Mean effect pos: 0.011\n",
      "Max effect pos: 0.028\n",
      "Num categories neg: 0\n"
     ]
    },
    {
     "ename": "StatisticsError",
     "evalue": "mean requires at least one data point",
     "output_type": "error",
     "traceback": [
      "\u001B[0;31m---------------------------------------------------------------------------\u001B[0m",
      "\u001B[0;31mStatisticsError\u001B[0m                           Traceback (most recent call last)",
      "Input \u001B[0;32mIn [7]\u001B[0m, in \u001B[0;36m<cell line: 3>\u001B[0;34m()\u001B[0m\n\u001B[1;32m      1\u001B[0m path_only_HS \u001B[38;5;241m=\u001B[39m \u001B[38;5;124m'\u001B[39m\u001B[38;5;124m../results/hatecheck_that_contains_HS/only_HSCatcher_that_contains_HS.json\u001B[39m\u001B[38;5;124m'\u001B[39m\n\u001B[1;32m      2\u001B[0m path_CDC \u001B[38;5;241m=\u001B[39m \u001B[38;5;124m'\u001B[39m\u001B[38;5;124m../results/hatecheck_that_contains_HS/CDC_that_contains_HS.json\u001B[39m\u001B[38;5;124m'\u001B[39m\n\u001B[0;32m----> 3\u001B[0m \u001B[43mcompare_result_files\u001B[49m\u001B[43m(\u001B[49m\u001B[43mpath_only_HS\u001B[49m\u001B[43m,\u001B[49m\u001B[43m \u001B[49m\u001B[43mpath_CDC\u001B[49m\u001B[43m)\u001B[49m\n",
      "Input \u001B[0;32mIn [4]\u001B[0m, in \u001B[0;36mcompare_result_files\u001B[0;34m(path_a, path_b)\u001B[0m\n\u001B[1;32m     15\u001B[0m \u001B[38;5;28mprint\u001B[39m(\u001B[38;5;124mf\u001B[39m\u001B[38;5;124m'\u001B[39m\u001B[38;5;124mMax effect pos: \u001B[39m\u001B[38;5;132;01m{\u001B[39;00m\u001B[38;5;28mmax\u001B[39m([i[\u001B[38;5;241m1\u001B[39m] \u001B[38;5;28;01mfor\u001B[39;00m i \u001B[38;5;129;01min\u001B[39;00m diffs_list_pos])\u001B[38;5;132;01m:\u001B[39;00m\u001B[38;5;124m.3f\u001B[39m\u001B[38;5;132;01m}\u001B[39;00m\u001B[38;5;124m'\u001B[39m)\n\u001B[1;32m     16\u001B[0m \u001B[38;5;28mprint\u001B[39m(\u001B[38;5;124mf\u001B[39m\u001B[38;5;124m'\u001B[39m\u001B[38;5;124mNum categories neg: \u001B[39m\u001B[38;5;132;01m{\u001B[39;00m\u001B[38;5;28mlen\u001B[39m(diffs_list_neg)\u001B[38;5;132;01m}\u001B[39;00m\u001B[38;5;124m'\u001B[39m)\n\u001B[0;32m---> 17\u001B[0m \u001B[38;5;28mprint\u001B[39m(\u001B[38;5;124mf\u001B[39m\u001B[38;5;124m'\u001B[39m\u001B[38;5;124mMean effect neg: \u001B[39m\u001B[38;5;132;01m{\u001B[39;00mmean([i[\u001B[38;5;241m1\u001B[39m] \u001B[38;5;28;01mfor\u001B[39;00m i \u001B[38;5;129;01min\u001B[39;00m diffs_list_neg])\u001B[38;5;132;01m:\u001B[39;00m\u001B[38;5;124m.3f\u001B[39m\u001B[38;5;132;01m}\u001B[39;00m\u001B[38;5;124m'\u001B[39m)\n\u001B[1;32m     18\u001B[0m \u001B[38;5;28mprint\u001B[39m(\u001B[38;5;124mf\u001B[39m\u001B[38;5;124m'\u001B[39m\u001B[38;5;124mMax effect neg: \u001B[39m\u001B[38;5;132;01m{\u001B[39;00m\u001B[38;5;28mmin\u001B[39m([i[\u001B[38;5;241m1\u001B[39m] \u001B[38;5;28;01mfor\u001B[39;00m i \u001B[38;5;129;01min\u001B[39;00m diffs_list_neg])\u001B[38;5;132;01m:\u001B[39;00m\u001B[38;5;124m.3f\u001B[39m\u001B[38;5;132;01m}\u001B[39;00m\u001B[38;5;124m'\u001B[39m)\n\u001B[1;32m     19\u001B[0m \u001B[38;5;28mprint\u001B[39m(\u001B[38;5;124mf\u001B[39m\u001B[38;5;124m'\u001B[39m\u001B[38;5;124m+++ The following functionalities increased the most: +++\u001B[39m\u001B[38;5;124m'\u001B[39m)\n",
      "File \u001B[0;32m/usr/lib/python3.10/statistics.py:328\u001B[0m, in \u001B[0;36mmean\u001B[0;34m(data)\u001B[0m\n\u001B[1;32m    326\u001B[0m n \u001B[38;5;241m=\u001B[39m \u001B[38;5;28mlen\u001B[39m(data)\n\u001B[1;32m    327\u001B[0m \u001B[38;5;28;01mif\u001B[39;00m n \u001B[38;5;241m<\u001B[39m \u001B[38;5;241m1\u001B[39m:\n\u001B[0;32m--> 328\u001B[0m     \u001B[38;5;28;01mraise\u001B[39;00m StatisticsError(\u001B[38;5;124m'\u001B[39m\u001B[38;5;124mmean requires at least one data point\u001B[39m\u001B[38;5;124m'\u001B[39m)\n\u001B[1;32m    329\u001B[0m T, total, count \u001B[38;5;241m=\u001B[39m _sum(data)\n\u001B[1;32m    330\u001B[0m \u001B[38;5;28;01massert\u001B[39;00m count \u001B[38;5;241m==\u001B[39m n\n",
      "\u001B[0;31mStatisticsError\u001B[0m: mean requires at least one data point"
     ]
    }
   ],
   "source": [
    "path_only_HS = '../results/hatecheck_that_contains_HS/only_HSCatcher_that_contains_HS.json'\n",
    "path_CDC = '../results/hatecheck_that_contains_HS/CDC_that_contains_HS.json'\n",
    "compare_result_files(path_only_HS, path_CDC)"
   ],
   "metadata": {
    "collapsed": false,
    "pycharm": {
     "name": "#%%\n"
    }
   }
  },
  {
   "cell_type": "markdown",
   "source": [
    "# FBT_tg_that_contains_HS vs. FBT_tg_FRS_that_contains_HS"
   ],
   "metadata": {
    "collapsed": false
   }
  },
  {
   "cell_type": "code",
   "execution_count": 8,
   "outputs": [
    {
     "name": "stdout",
     "output_type": "stream",
     "text": [
      "Accuracy A: 82.7, Accuracy B: 82.7\n",
      "Diff: -0.1%\n",
      "~~~ Some stats: ~~~\n",
      "Num categories: 30\n",
      "Num categories pos: 3\n",
      "Mean effect pos: 0.113\n",
      "Max effect pos: 0.321\n",
      "Num categories neg: 7\n",
      "Mean effect neg: -0.031\n",
      "Max effect neg: -0.079\n",
      "+++ The following functionalities increased the most: +++\n",
      "slur_reclaimed_nh: +32.1%\n",
      "profanity_nh: +1.0%\n",
      "counter_ref_nh: +0.7%\n",
      "derog_neg_emote_h: +0.0%\n",
      "derog_neg_attrib_h: +0.0%\n",
      "derog_dehum_h: +0.0%\n",
      "threat_norm_h: +0.0%\n",
      "slur_h: +0.0%\n",
      "slur_homonym_nh: +0.0%\n",
      "profanity_h: +0.0%\n",
      "--- The following functionalities decreased the most: ---\n",
      "derog_impl_h: -7.9%\n",
      "phrase_question_h: -5.0%\n",
      "threat_dir_h: -3.0%\n",
      "ref_subs_clause_h: -2.9%\n",
      "phrase_opinion_h: -2.3%\n",
      "spell_space_add_h: -0.6%\n",
      "overall: -0.1%\n",
      "spell_leet_h: +0.0%\n",
      "spell_space_del_h: +0.0%\n",
      "spell_char_del_h: +0.0%\n"
     ]
    }
   ],
   "source": [
    "path_FBT_tg = '../results/hatecheck_that_contains_HS/FBT_tg_that_contains_HS.json'\n",
    "path_FBT_tg_FRS = '../results/hatecheck_that_contains_HS/FBT_tg_FRS_that_contains_HS.json'\n",
    "compare_result_files(path_FBT_tg, path_FBT_tg_FRS)"
   ],
   "metadata": {
    "collapsed": false,
    "pycharm": {
     "name": "#%%\n"
    }
   }
  },
  {
   "cell_type": "code",
   "execution_count": 14,
   "outputs": [
    {
     "data": {
      "text/plain": "[['Functionality', 'No Strat.', 'FBT', 'FCS', 'FRS', 'CDC', 'All'],\n ['F1: Expression of strong negative emotions (explicit)',\n  100.0,\n  0.0,\n  0.0,\n  0.0,\n  0.0,\n  0.0],\n ['F2: Description using very negative attributes (explicit)',\n  98.57142857142858,\n  0.0,\n  0.0,\n  0.0,\n  0.0,\n  0.0],\n ['F3: Dehumanisation (explicit)', 100.0, 0.0, 0.0, 0.0, 0.0, 0.0],\n ['F4: Implicit derogation',\n  89.28571428571429,\n  -5.000000000000004,\n  0.0,\n  -10.000000000000009,\n  0.0,\n  -12.857142857142867],\n ['F5: Direct threat',\n  100.0,\n  0.0,\n  0.0,\n  -3.007518796992481,\n  0.0,\n  -3.007518796992481],\n ['F6: Threat as normative statement',\n  99.28571428571429,\n  0.0,\n  0.0,\n  0.0,\n  0.0,\n  0.0],\n ['F7: Hate expressed using slur',\n  85.41666666666666,\n  -14.583333333333325,\n  0.0,\n  0.0,\n  2.777777777777779,\n  -12.5],\n ['F8: Non-hateful homonyms of slurs',\n  76.66666666666667,\n  6.666666666666665,\n  0.0,\n  0.0,\n  0.0,\n  6.666666666666665],\n ['F9: Reclaimed slurs',\n  33.33333333333333,\n  0.0,\n  0.0,\n  32.098765432098766,\n  0.0,\n  32.098765432098766],\n ['F10: Hate expressed using profanity',\n  97.85714285714285,\n  -0.7142857142857117,\n  0.0,\n  0.0,\n  0.0,\n  -0.7142857142857117],\n ['F11: Non-hateful use of profanity',\n  43.0,\n  49.00000000000001,\n  0.0,\n  23.000000000000004,\n  0.0,\n  50.0],\n ['F12: Hate expressed through reference in subsequent clauses',\n  100.0,\n  0.0,\n  0.0,\n  -2.857142857142858,\n  0.0,\n  -2.857142857142858],\n ['F13: Hate expressed through reference in subsequent sentences',\n  97.74436090225564,\n  0.0,\n  0.0,\n  0.0,\n  0.0,\n  0.0],\n ['F14: Hate expressed using negated positive statement',\n  100.0,\n  -2.857142857142858,\n  0.0,\n  0.0,\n  0.0,\n  -2.857142857142858],\n ['F15: Non-hate expressed using negated hateful statement',\n  33.08270676691729,\n  5.263157894736842,\n  0.0,\n  0.0,\n  0.0,\n  5.263157894736842],\n ['F16: Hate phrased as a question',\n  99.28571428571429,\n  0.0,\n  0.0,\n  -5.000000000000004,\n  0.0,\n  -5.000000000000004],\n ['F17: Hate phrased as an opinion',\n  100.0,\n  0.0,\n  0.0,\n  -2.2556390977443663,\n  0.0,\n  -2.2556390977443663],\n ['F18: Neutral statements using protected group identifiers',\n  96.03174603174604,\n  0.0,\n  0.0,\n  0.0,\n  0.0,\n  0.0],\n ['F19: Positive statements using protected group identifiers',\n  97.35449735449735,\n  0.0,\n  0.0,\n  0.0,\n  0.0,\n  0.0],\n ['F20: Denouncements of hate that quote it',\n  0.0,\n  8.670520231213873,\n  100.0,\n  0.0,\n  0.0,\n  100.0],\n ['F21: Denouncements of hate that make direct reference to it',\n  0.0,\n  7.801418439716312,\n  0.0,\n  1.4184397163120568,\n  0.0,\n  8.51063829787234],\n ['F22: Abuse targeted at objects',\n  63.07692307692307,\n  36.92307692307693,\n  0.0,\n  9.230769230769232,\n  0.0,\n  36.92307692307693],\n ['F23: Abuse targeted at individuals (not as member of a prot. group)',\n  7.6923076923076925,\n  70.76923076923076,\n  0.0,\n  0.0,\n  0.0,\n  70.76923076923076],\n ['F24: Abuse targeted at nonprotected groups (e.g. professions)',\n  11.29032258064516,\n  83.87096774193549,\n  0.0,\n  3.2258064516129044,\n  0.0,\n  83.87096774193549],\n ['F25: Swaps of adjacent characters',\n  97.74436090225564,\n  0.0,\n  0.0,\n  0.0,\n  0.0,\n  0.0],\n ['F26: Missing characters',\n  88.57142857142857,\n  -1.4285714285714235,\n  0.0,\n  0.0,\n  0.7142857142857229,\n  -0.7142857142857117],\n ['F27: Missing word boundaries',\n  87.94326241134752,\n  -4.255319148936176,\n  0.0,\n  0.0,\n  1.4184397163120477,\n  -3.546099290780147],\n ['F28: Added spaces between chars',\n  97.6878612716763,\n  -10.982658959537572,\n  0.0,\n  -0.5780346820809301,\n  0.0,\n  -11.560693641618503],\n ['F29: Leet speak spellings',\n  93.0635838150289,\n  -12.71676300578035,\n  0.0,\n  0.0,\n  0.578034682080919,\n  -12.138728323699421],\n ['Overall', 79.4, 3.3, 4.6, 0.7, 0.3, 7.9]]"
     },
     "execution_count": 14,
     "metadata": {},
     "output_type": "execute_result"
    }
   ],
   "source": [
    "func_abbr_to_func_id_descr = {\n",
    "    'derog_neg_emote_h': ('F1', 'Expression of strong negative emotions (explicit)'),\n",
    "    'derog_neg_attrib_h': ('F2', 'Description using very negative attributes (explicit)'),\n",
    "    'derog_dehum_h': ('F3', 'Dehumanisation (explicit)'),\n",
    "    'derog_impl_h': ('F4', 'Implicit derogation'),\n",
    "    'threat_dir_h': ('F5', 'Direct threat'),\n",
    "    'threat_norm_h': ('F6', 'Threat as normative statement'),\n",
    "    'slur_h': ('F7', 'Hate expressed using slur'),\n",
    "    'slur_homonym_nh': ('F8', 'Non-hateful homonyms of slurs'),\n",
    "    'slur_reclaimed_nh': ('F9', 'Reclaimed slurs'),\n",
    "    'profanity_h': ('F10', 'Hate expressed using profanity'),\n",
    "    'profanity_nh': ('F11', 'Non-hateful use of profanity'),\n",
    "    'ref_subs_clause_h': ('F12', 'Hate expressed through reference in subsequent clauses'),\n",
    "    'ref_subs_sent_h': ('F13', 'Hate expressed through reference in subsequent sentences'),\n",
    "    'negate_pos_h': ('F14', 'Hate expressed using negated positive statement'),\n",
    "    'negate_neg_nh': ('F15', 'Non-hate expressed using negated hateful statement'),\n",
    "    'phrase_question_h': ('F16', 'Hate phrased as a question'),\n",
    "    'phrase_opinion_h': ('F17', 'Hate phrased as an opinion'),\n",
    "    'ident_neutral_nh': ('F18', 'Neutral statements using protected group identifiers'),\n",
    "    'ident_pos_nh': ('F19', 'Positive statements using protected group identifiers'),\n",
    "    'counter_quote_nh': ('F20', 'Denouncements of hate that quote it'),\n",
    "    'counter_ref_nh': ('F21', 'Denouncements of hate that make direct reference to it'),\n",
    "    'target_obj_nh': ('F22', 'Abuse targeted at objects'),\n",
    "    'target_indiv_nh': ('F23', 'Abuse targeted at individuals (not as member of a prot. group)'),\n",
    "    'target_group_nh': ('F24', 'Abuse targeted at nonprotected groups (e.g. professions)'),\n",
    "    'spell_char_swap_h': ('F25', 'Swaps of adjacent characters'),\n",
    "    'spell_char_del_h': ('F26', 'Missing characters'),\n",
    "    'spell_space_del_h': ('F27', 'Missing word boundaries'),\n",
    "    'spell_space_add_h': ('F28', 'Added spaces between chars'),\n",
    "    'spell_leet_h': ('F29', 'Leet speak spellings')\n",
    "}\n",
    "\n",
    "def generate_full_table(path_basic, path_fbt, path_fcs, path_frs, path_cdc):\n",
    "    results_basic = load_results(path_basic)\n",
    "    results_fbt = load_results(path_fbt)\n",
    "    results_fcs = load_results(path_fcs)\n",
    "    results_frs = load_results(path_frs)\n",
    "    results_cdc = load_results(path_cdc)\n",
    "    results_full = load_results(path_full)\n",
    "\n",
    "    diff_basic_to_fbt = compare_results(results_basic, results_fbt)\n",
    "    diff_basic_to_fcs = compare_results(results_basic, results_fcs)\n",
    "    diff_basic_to_frs = compare_results(results_basic, results_frs)\n",
    "    diff_basic_to_cdc = compare_results(results_basic, results_cdc)\n",
    "    diff_basic_to_full = compare_results(results_basic, results_full)\n",
    "\n",
    "    table = [['Functionality', 'No Strat.', 'FBT', 'FCS', 'FRS', 'CDC', 'All']]\n",
    "    for func_abbr in func_abbr_to_func_id_descr:\n",
    "        table.append([\n",
    "            f'{func_abbr_to_func_id_descr[func_abbr][0]}: {func_abbr_to_func_id_descr[func_abbr][1]}',\n",
    "            100*results_basic[func_abbr]['acc'],\n",
    "            100*diff_basic_to_fbt[func_abbr],\n",
    "            100*diff_basic_to_fcs[func_abbr],\n",
    "            100*diff_basic_to_frs[func_abbr],\n",
    "            100*diff_basic_to_cdc[func_abbr],\n",
    "            100*diff_basic_to_full[func_abbr],\n",
    "        ])\n",
    "    table.append(['Overall', 79.4, 3.3, 4.6, 0.7, 0.3, 7.9])\n",
    "    return table\n",
    "\n",
    "path_FCS = '../results/hatecheck_that_contains_HS/FC_that_contains_HS.json'\n",
    "path_full = '../results/hatecheck_that_contains_HS/CDC_FBT_tg_FC_FRS_that_contains_HS.json'\n",
    "full_table = generate_full_table(path_only_HSCatcher, path_FBT_tg, path_FCS, path_FRS, path_CDC) # 2D-list\n",
    "full_table"
   ],
   "metadata": {
    "collapsed": false,
    "pycharm": {
     "name": "#%%\n"
    }
   }
  },
  {
   "cell_type": "code",
   "execution_count": 15,
   "outputs": [
    {
     "name": "stdout",
     "output_type": "stream",
     "text": [
      "Functionality & No Strat. & FBT & FCS & FRS & CDC & All \\\\\n",
      "F1: Expression of strong negative emotions (explicit) & 100.0 & \\cellcolor{red!0}{+0.0} & \\cellcolor{red!0}{+0.0} & \\cellcolor{red!0}{+0.0} & \\cellcolor{red!0}{+0.0} & \\cellcolor{red!0}{+0.0} \\\\\n",
      "F2: Description using very negative attributes (explicit) & 98.6 & \\cellcolor{red!0}{+0.0} & \\cellcolor{red!0}{+0.0} & \\cellcolor{red!0}{+0.0} & \\cellcolor{red!0}{+0.0} & \\cellcolor{red!0}{+0.0} \\\\\n",
      "F3: Dehumanisation (explicit) & 100.0 & \\cellcolor{red!0}{+0.0} & \\cellcolor{red!0}{+0.0} & \\cellcolor{red!0}{+0.0} & \\cellcolor{red!0}{+0.0} & \\cellcolor{red!0}{+0.0} \\\\\n",
      "F4: Implicit derogation & 89.3 & \\cellcolor{red!20}{-5.0} & \\cellcolor{red!0}{+0.0} & \\cellcolor{red!25}{-10.0} & \\cellcolor{red!0}{+0.0} & \\cellcolor{red!28}{-12.9} \\\\\n",
      "F5: Direct threat & 100.0 & \\cellcolor{red!0}{+0.0} & \\cellcolor{red!0}{+0.0} & \\cellcolor{red!18}{-3.0} & \\cellcolor{red!0}{+0.0} & \\cellcolor{red!18}{-3.0} \\\\\n",
      "F6: Threat as normative statement & 99.3 & \\cellcolor{red!0}{+0.0} & \\cellcolor{red!0}{+0.0} & \\cellcolor{red!0}{+0.0} & \\cellcolor{red!0}{+0.0} & \\cellcolor{red!0}{+0.0} \\\\\n",
      "F7: Hate expressed using slur & 85.4 & \\cellcolor{red!30}{-14.6} & \\cellcolor{red!0}{+0.0} & \\cellcolor{red!0}{+0.0} & \\cellcolor{green!18}{+2.8} & \\cellcolor{red!28}{-12.5} \\\\\n",
      "F8: Non-hateful homonyms of slurs & 76.7 & \\cellcolor{green!22}{+6.7} & \\cellcolor{red!0}{+0.0} & \\cellcolor{red!0}{+0.0} & \\cellcolor{red!0}{+0.0} & \\cellcolor{green!22}{+6.7} \\\\\n",
      "F9: Reclaimed slurs & {\\color{red}33.3} & \\cellcolor{red!0}{+0.0} & \\cellcolor{red!0}{+0.0} & \\cellcolor{green!47}{+32.1} & \\cellcolor{red!0}{+0.0} & \\cellcolor{green!47}{+32.1} \\\\\n",
      "F10: Hate expressed using profanity & 97.9 & \\cellcolor{red!16}{-0.7} & \\cellcolor{red!0}{+0.0} & \\cellcolor{red!0}{+0.0} & \\cellcolor{red!0}{+0.0} & \\cellcolor{red!16}{-0.7} \\\\\n",
      "F11: Non-hateful use of profanity & {\\color{red}43.0} & \\cellcolor{green!64}{+49.0} & \\cellcolor{red!0}{+0.0} & \\cellcolor{green!38}{+23.0} & \\cellcolor{red!0}{+0.0} & \\cellcolor{green!65}{+50.0} \\\\\n",
      "F12: Hate expressed through reference in subsequent clauses & 100.0 & \\cellcolor{red!0}{+0.0} & \\cellcolor{red!0}{+0.0} & \\cellcolor{red!18}{-2.9} & \\cellcolor{red!0}{+0.0} & \\cellcolor{red!18}{-2.9} \\\\\n",
      "F13: Hate expressed through reference in subsequent sentences & 97.7 & \\cellcolor{red!0}{+0.0} & \\cellcolor{red!0}{+0.0} & \\cellcolor{red!0}{+0.0} & \\cellcolor{red!0}{+0.0} & \\cellcolor{red!0}{+0.0} \\\\\n",
      "F14: Hate expressed using negated positive statement & 100.0 & \\cellcolor{red!18}{-2.9} & \\cellcolor{red!0}{+0.0} & \\cellcolor{red!0}{+0.0} & \\cellcolor{red!0}{+0.0} & \\cellcolor{red!18}{-2.9} \\\\\n",
      "F15: Non-hate expressed using negated hateful statement & {\\color{red}33.1} & \\cellcolor{green!20}{+5.3} & \\cellcolor{red!0}{+0.0} & \\cellcolor{red!0}{+0.0} & \\cellcolor{red!0}{+0.0} & \\cellcolor{green!20}{+5.3} \\\\\n",
      "F16: Hate phrased as a question & 99.3 & \\cellcolor{red!0}{+0.0} & \\cellcolor{red!0}{+0.0} & \\cellcolor{red!20}{-5.0} & \\cellcolor{red!0}{+0.0} & \\cellcolor{red!20}{-5.0} \\\\\n",
      "F17: Hate phrased as an opinion & 100.0 & \\cellcolor{red!0}{+0.0} & \\cellcolor{red!0}{+0.0} & \\cellcolor{red!17}{-2.3} & \\cellcolor{red!0}{+0.0} & \\cellcolor{red!17}{-2.3} \\\\\n",
      "F18: Neutral statements using protected group identifiers & 96.0 & \\cellcolor{red!0}{+0.0} & \\cellcolor{red!0}{+0.0} & \\cellcolor{red!0}{+0.0} & \\cellcolor{red!0}{+0.0} & \\cellcolor{red!0}{+0.0} \\\\\n",
      "F19: Positive statements using protected group identifiers & 97.4 & \\cellcolor{red!0}{+0.0} & \\cellcolor{red!0}{+0.0} & \\cellcolor{red!0}{+0.0} & \\cellcolor{red!0}{+0.0} & \\cellcolor{red!0}{+0.0} \\\\\n",
      "F20: Denouncements of hate that quote it & {\\color{red}0.0} & \\cellcolor{green!24}{+8.7} & \\cellcolor{green!100}{+100.0} & \\cellcolor{red!0}{+0.0} & \\cellcolor{red!0}{+0.0} & \\cellcolor{green!100}{+100.0} \\\\\n",
      "F21: Denouncements of hate that make direct reference to it & {\\color{red}0.0} & \\cellcolor{green!23}{+7.8} & \\cellcolor{red!0}{+0.0} & \\cellcolor{green!16}{+1.4} & \\cellcolor{red!0}{+0.0} & \\cellcolor{green!24}{+8.5} \\\\\n",
      "F22: Abuse targeted at objects & {\\color{red}63.1} & \\cellcolor{green!52}{+36.9} & \\cellcolor{red!0}{+0.0} & \\cellcolor{green!24}{+9.2} & \\cellcolor{red!0}{+0.0} & \\cellcolor{green!52}{+36.9} \\\\\n",
      "F23: Abuse targeted at individuals (not as member of a prot. group) & {\\color{red}7.7} & \\cellcolor{green!86}{+70.8} & \\cellcolor{red!0}{+0.0} & \\cellcolor{red!0}{+0.0} & \\cellcolor{red!0}{+0.0} & \\cellcolor{green!86}{+70.8} \\\\\n",
      "F24: Abuse targeted at nonprotected groups (e.g. professions) & {\\color{red}11.3} & \\cellcolor{green!99}{+83.9} & \\cellcolor{red!0}{+0.0} & \\cellcolor{green!18}{+3.2} & \\cellcolor{red!0}{+0.0} & \\cellcolor{green!99}{+83.9} \\\\\n",
      "F25: Swaps of adjacent characters & 97.7 & \\cellcolor{red!0}{+0.0} & \\cellcolor{red!0}{+0.0} & \\cellcolor{red!0}{+0.0} & \\cellcolor{red!0}{+0.0} & \\cellcolor{red!0}{+0.0} \\\\\n",
      "F26: Missing characters & 88.6 & \\cellcolor{red!16}{-1.4} & \\cellcolor{red!0}{+0.0} & \\cellcolor{red!0}{+0.0} & \\cellcolor{green!16}{+0.7} & \\cellcolor{red!16}{-0.7} \\\\\n",
      "F27: Missing word boundaries & 87.9 & \\cellcolor{red!19}{-4.3} & \\cellcolor{red!0}{+0.0} & \\cellcolor{red!0}{+0.0} & \\cellcolor{green!16}{+1.4} & \\cellcolor{red!19}{-3.5} \\\\\n",
      "F28: Added spaces between chars & 97.7 & \\cellcolor{red!26}{-11.0} & \\cellcolor{red!0}{+0.0} & \\cellcolor{red!16}{-0.6} & \\cellcolor{red!0}{+0.0} & \\cellcolor{red!27}{-11.6} \\\\\n",
      "F29: Leet speak spellings & 93.1 & \\cellcolor{red!28}{-12.7} & \\cellcolor{red!0}{+0.0} & \\cellcolor{red!0}{+0.0} & \\cellcolor{green!16}{+0.6} & \\cellcolor{red!27}{-12.1} \\\\\n",
      "Overall & 79.4 & \\cellcolor{green!18}{+3.3} & \\cellcolor{green!20}{+4.6} & \\cellcolor{green!16}{+0.7} & \\cellcolor{green!15}{+0.3} & \\cellcolor{green!23}{+7.9} \\\\\n",
      "\\hline\n"
     ]
    }
   ],
   "source": [
    "def table_to_latex(table):\n",
    "    table_str = ''\n",
    "    for row in table:\n",
    "        for i, item in enumerate(row):\n",
    "            if isinstance(item, str):\n",
    "                table_str += item\n",
    "                table_str += ' '\n",
    "            elif i == 1:\n",
    "                if item >= 70:\n",
    "                    table_str += f'{item:.1f} '\n",
    "                else:\n",
    "                    s = r'{\\color{red}' + f'{item:.1f}' + '} '\n",
    "                    table_str += s\n",
    "            else:\n",
    "                color = 'green' if item > 0 else 'red'\n",
    "                if item > 0:\n",
    "                    opacity = min(int(round(15 + item)), 100)\n",
    "                elif item < 0:\n",
    "                    opacity = min(int(round(-1*item+15)), 100)\n",
    "                else:\n",
    "                    opacity = 0\n",
    "                table_str += r'\\cellcolor{' + color + '!' + f'{opacity}' + '}{' f'{item:+.1f}' + r'} '\n",
    "            if i != len(row)-1:\n",
    "                table_str += '& '\n",
    "        table_str += r'\\\\'\n",
    "        table_str += '\\n'\n",
    "    table_str += r'\\hline'\n",
    "    return table_str\n",
    "\n",
    "print(table_to_latex(full_table))"
   ],
   "metadata": {
    "collapsed": false,
    "pycharm": {
     "name": "#%%\n"
    }
   }
  },
  {
   "cell_type": "code",
   "execution_count": 15,
   "outputs": [],
   "source": [],
   "metadata": {
    "collapsed": false,
    "pycharm": {
     "name": "#%%\n"
    }
   }
  },
  {
   "cell_type": "code",
   "execution_count": null,
   "outputs": [],
   "source": [],
   "metadata": {
    "collapsed": false,
    "pycharm": {
     "name": "#%%\n"
    }
   }
  },
  {
   "cell_type": "code",
   "execution_count": null,
   "outputs": [],
   "source": [],
   "metadata": {
    "collapsed": false,
    "pycharm": {
     "name": "#%%\n"
    }
   }
  }
 ],
 "metadata": {
  "kernelspec": {
   "display_name": "Python 3",
   "language": "python",
   "name": "python3"
  },
  "language_info": {
   "codemirror_mode": {
    "name": "ipython",
    "version": 2
   },
   "file_extension": ".py",
   "mimetype": "text/x-python",
   "name": "python",
   "nbconvert_exporter": "python",
   "pygments_lexer": "ipython2",
   "version": "2.7.6"
  }
 },
 "nbformat": 4,
 "nbformat_minor": 0
}